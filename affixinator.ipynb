{
 "cells": [
  {
   "cell_type": "markdown",
   "id": "74a2f147",
   "metadata": {},
   "source": [
    "# Making trisyllables from a csv file and .wavs of individual syllables\n",
    "trisyllables are in snake case, with prominence and weight denoted as follows: \n",
    "NB: this works because python's string default is case sensitive.\n",
    "\n",
    "       L, unstressed: cv\n",
    "       L, prominent: cV\n",
    "       H, unstressed: cvv\n",
    "       H, prominent: cAA\n",
    "\n",
    "for example:  \n",
    "\n",
    "       QI: (LLL) \n",
    "              target pattern: learning \n",
    "              left edge: bA_ba_ba \n",
    "              right edge: ba_ba_bA\n",
    "\n",
    "decision pairs: target + two incorrect options of possible positions of prominence: \n",
    "\n",
    "       dóloze, dolóze, dolozé\n",
    "       * dO_lo_ze, do_lO_ze, dolozE\n",
    "       each edge group has three: correct, incorrect1, incorrect2\n",
    "              \n",
    "       QS: \n",
    "       HLL: bAA_ba_ba \n",
    "       LHL: ba_bAA_ba\n",
    "       H'HL: baa_bAA_ba"
   ]
  },
  {
   "cell_type": "code",
   "execution_count": null,
   "id": "470c0cee",
   "metadata": {},
   "outputs": [],
   "source": [
    "import pandas as pd\n",
    "\n",
    "stim_input = \"/Users/sarah/Git/stress_learn/syllables/\"\n",
    "trisyllables_df = pd.read_csv(stim_input + \"stim.csv\")\n",
    "trisyllables_df.head()"
   ]
  },
  {
   "cell_type": "code",
   "execution_count": null,
   "id": "052327d5",
   "metadata": {},
   "outputs": [],
   "source": [
    "\n",
    "left = []\n",
    "mid = []\n",
    "right = []\n",
    "#store the word in this row\n",
    "for item in trisyllables_df.nonce: \n",
    "    nonce = item\n",
    "    l_index = 1\n",
    "    m = 4\n",
    "    r_index = len(nonce)\n",
    "    tmpLeft = nonce[0] + nonce[l_index].upper() + nonce[2:r_index]\n",
    "    tmpMid = nonce[0:(m)] + nonce[m].upper() + nonce[(m + 1):r_index]\n",
    "    tmpRight = nonce[0:r_index-1] + nonce[r_index-1].upper()\n",
    "\n",
    "    left.append(tmpLeft)\n",
    "    mid.append(tmpMid)\n",
    "    right.append(tmpRight)\n",
    "#print(left, mid, right)\n",
    "trisyllables_df[\"left\"] = left\n",
    "trisyllables_df[\"mid\"] = mid\n",
    "trisyllables_df[\"right\"] = right\n",
    "trisyllables_df.head()\n"
   ]
  },
  {
   "cell_type": "code",
   "execution_count": null,
   "id": "6c2a526f",
   "metadata": {},
   "outputs": [],
   "source": [
    "qi_conditions_df = trisyllables_df[[\"left\",\"mid\",\"right\"]]\n",
    "print(qi_conditions_df)\n",
    "\n",
    "# print(\"AFTER CONVERSION\\n\", after, \"\\n\")"
   ]
  },
  {
   "cell_type": "code",
   "execution_count": null,
   "id": "7ae9f03e",
   "metadata": {},
   "outputs": [],
   "source": [
    "import parselmouth\n",
    "#set the directory for the .wav files of individual syllables\n",
    "syll_root = \"/Users/sarah/Git/stress_learn/syllables/\"\n",
    "#set the directory for new .wav files to be saved after concatenation\n",
    "output_words = \"/Users/sarah/Git/stress_learn/words/\"\n",
    "\n",
    "\n",
    "def affixer(trisyllable,output):\n",
    "       #split string into individual syllables\n",
    "\n",
    "    triplet = (trisyllable.split('_'))\n",
    "    #print(triplet)\n",
    "    init = triplet[0]\n",
    "    penult = triplet[1]\n",
    "    ultima = triplet[2]\n",
    "    #print(init, penult, ultima)\n",
    "    #create sound object of each syllable\n",
    "    s1 = syll_root+\"short_soft/\" + init + \".wav\"\n",
    "    s2 = syll_root+ \"short_soft/\" + penult + \".wav\"\n",
    "    s3 = syll_root+ \"short_stress/\" + ultima + \".wav\"\n",
    "    syll1 = parselmouth.Sound(s1)\n",
    "    syll2 = parselmouth.Sound(s2)\n",
    "    syll3 = parselmouth.Sound(s3)\n",
    "    #create list of sound objects\n",
    "    tri_syll = [syll1,syll2,syll3]\n",
    "    #tmpword = parselmouth.Sound.concatenate(syll1,syll2,0.0)\n",
    "    word = parselmouth.Sound.concatenate(tri_syll,0.0)\n",
    "    word.save((output + trisyllable+ \".wav\"),parselmouth.SoundFileFormat.WAV)\n",
    "\n",
    "for item in qi_conditions_df[\"right\"]:\n",
    "    affixer(item, output_words)"
   ]
  }
 ],
 "metadata": {
  "kernelspec": {
   "display_name": "Python 3 (ipykernel)",
   "language": "python",
   "name": "python3"
  },
  "language_info": {
   "codemirror_mode": {
    "name": "ipython",
    "version": 3
   },
   "file_extension": ".py",
   "mimetype": "text/x-python",
   "name": "python",
   "nbconvert_exporter": "python",
   "pygments_lexer": "ipython3",
   "version": "3.9.5"
  }
 },
 "nbformat": 4,
 "nbformat_minor": 5
}
