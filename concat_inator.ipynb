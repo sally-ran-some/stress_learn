{
 "cells": [
  {
   "cell_type": "markdown",
   "metadata": {},
   "source": [
    "#PRAAT CONCATENATION \n",
    "\n",
    "with parselmouth \n",
    "\n",
    "this method takes as input a list[] of sound items to be concatenated together, opens these, puts them together, and saves the resulting .wav file in the provided directory\n",
    "\n",
    "\n"
   ]
  },
  {
   "cell_type": "code",
   "execution_count": 6,
   "metadata": {},
   "outputs": [],
   "source": [
    "import parselmouth\n",
    "#set the directory for the .wav files of individual sound files to be concatenated\n",
    "input_wavs = \"/Users/sarah/Git/stress_learn/short_V/\"\n",
    "#set the directory for new .wav files to be saved after concatenation\n",
    "output_wavs = \"/Users/sarah/Git/stress_learn/syllables/short/\"\n",
    "\n",
    "def affixer(desired_sound,output):\n",
    "    #splits string into characters\n",
    "    # soundlist = desired_sound.split()   \n",
    "    #iterates over each character and finds the corresponding audio file \n",
    "    onset = input_wavs + desired_sound + \"_\" + desired_sound[0] +\".wav\"\n",
    "    vowel = input_wavs + desired_sound + \"_\" + desired_sound[1] +\".wav\"\n",
    "    on_seg = parselmouth.Sound(onset)\n",
    "    vow_seg = parselmouth.Sound(vowel)\n",
    "    syllabic = [on_seg,vow_seg]\n",
    "    syllable = parselmouth.Sound.concatenate(syllabic,0.0)\n",
    "    syllable.save((output + desired_sound + \".wav\"),parselmouth.SoundFileFormat.WAV)\n",
    "    \n",
    "           \n",
    "\n",
    "sylList = [\"ba\",\"be\",\"bo\",\"da\",\"de\",\"do\",\"ga\",\"ge\",\"go\",\"la\",\"le\",\"lo\",\"za\",\"ze\",\"zo\"]\n",
    "\n",
    "for item in sylList:\n",
    "    affixer(item,output_wavs)\n",
    "\n",
    " \n",
    "#     #print(init, penult, ultima)\n",
    "#     #create sound object of each syllable\n",
    "#     s1 = syll_root+\"short_soft/\" + init + \".wav\"\n",
    "#     s2 = syll_root+ \"short_soft/\" + penult + \".wav\"\n",
    "#     s3 = syll_root+ \"short_stress/\" + ultima + \".wav\"\n",
    "#     syll1 = parselmouth.Sound(s1)\n",
    "#     syll2 = parselmouth.Sound(s2)\n",
    "#     syll3 = parselmouth.Sound(s3)\n",
    "#     #create list of sound objects\n",
    "#     tri_syll = [syll1,syll2,syll3]\n",
    "#     #tmpword = parselmouth.Sound.concatenate(syll1,syll2,0.0)\n",
    "#     word = parselmouth.Sound.concatenate(tri_syll,0.0)\n",
    "#     word.save((output + trisyllable+ \".wav\"),parselmouth.SoundFileFormat.WAV)\n",
    "\n",
    "# for item in qi_conditions_df[\"right\"]:\n",
    "#     affixer(item, output_words)"
   ]
  },
  {
   "cell_type": "code",
   "execution_count": null,
   "metadata": {},
   "outputs": [],
   "source": []
  }
 ],
 "metadata": {
  "interpreter": {
   "hash": "dd9a263a021b7496b06352cb4600e46858ffaf775c6cfeaeaf5f4e380d7237f2"
  },
  "kernelspec": {
   "display_name": "Python 3.9.5 64-bit ('soundmines': conda)",
   "language": "python",
   "name": "python3"
  },
  "language_info": {
   "codemirror_mode": {
    "name": "ipython",
    "version": 3
   },
   "file_extension": ".py",
   "mimetype": "text/x-python",
   "name": "python",
   "nbconvert_exporter": "python",
   "pygments_lexer": "ipython3",
   "version": "3.9.5"
  },
  "orig_nbformat": 4
 },
 "nbformat": 4,
 "nbformat_minor": 2
}
