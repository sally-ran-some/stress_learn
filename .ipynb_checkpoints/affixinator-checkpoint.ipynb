{
 "cells": [
  {
   "cell_type": "code",
   "execution_count": null,
   "id": "a17e762e",
   "metadata": {},
   "outputs": [],
   "source": [
    "import parselmouth\n",
    "from parselmouth import call\n",
    "\n",
    "# import ipython\n",
    "# from ipython.display import Audio\n",
    "\n",
    "\n"
   ]
  },
  {
   "cell_type": "code",
   "execution_count": null,
   "id": "e4b5000f",
   "metadata": {},
   "outputs": [],
   "source": []
  },
  {
   "cell_type": "raw",
   "id": "d868bbb6",
   "metadata": {},
   "source": [
    "#trisyllables are in snake case, with prominence and weight denoted as follows: \n",
    "# NB: this works because python's string default is case sensitive.\n",
    "#    L, unstressed: cv\n",
    "#    L, prominent: cV\n",
    "#    H, unstressed: cvv\n",
    "#    H, prominent: cAA\n",
    "#\n",
    "#    i.e., LLL, \n",
    "            left edge: bA_ba_ba\n",
    "            right edge: ba_ba_bA\n",
    "        \n",
    "            HLL: bAA_ba_ba \n",
    "            LHL: ba_bAA_ba\n",
    "            H'HL: baa_bAA_ba"
   ]
  },
  {
   "cell_type": "code",
   "execution_count": null,
   "id": "f8dbf079",
   "metadata": {},
   "outputs": [],
   "source": []
  },
  {
   "cell_type": "code",
   "execution_count": null,
   "id": "470c0cee",
   "metadata": {},
   "outputs": [],
   "source": [
    "import pandas as pd\n",
    "import glob\n",
    "import os.path\n",
    "\n",
    "\n",
    "stim_input = \" \"\n",
    "trisyllables_df = pd.read_csv(stim_input + \"stim.csv\")\n",
    "\n"
   ]
  },
  {
   "cell_type": "code",
   "execution_count": null,
   "id": "052327d5",
   "metadata": {},
   "outputs": [],
   "source": [
    "#store the word in this row\n",
    "nonce = \"ba_da_ga\"\n",
    "#split string into individual syllables\n",
    "triplet = (nonce.split('_'))"
   ]
  },
  {
   "cell_type": "code",
   "execution_count": null,
   "id": "7ae9f03e",
   "metadata": {},
   "outputs": [],
   "source": [
    "def affixer(triplet,output):\n",
    "    #create sound object of each syllable\n",
    "    syll1 = parselmouth.Sound(syll_root + triplet[0]+\".wav\")\n",
    "    syll2 = parselmouth.Sound(syll_root + triplet[1]+\".wav\")\n",
    "    syll3 = parselmouth.Sound(syll_root + triplet[2]+\".wav\")\n",
    "    #create list of sound objects\n",
    "    tri_syll = [syll1,syll2,syll3]\n",
    "\n",
    "    word = parselmouth.Sound.concatenate(tri_syll,0.0)\n",
    "    word.save(output + nonce + \".wav\",\"WAV\")\n",
    "\n",
    "# Audio(data=sound.values, rate=sound.sampling_frequency)\n"
   ]
  },
  {
   "cell_type": "code",
   "execution_count": null,
   "id": "40197a26",
   "metadata": {},
   "outputs": [],
   "source": [
    "#set the directory for the .wav files of individual syllables\n",
    "syll_root = \"/Users/sarah/Git/stress_learn/syllables/\"\n",
    "#set the directory for new .wav files to be saved after concatenation\n",
    "output_words = \"/Users/sarah/Git/stress_learn/words/\""
   ]
  }
 ],
 "metadata": {
  "kernelspec": {
   "display_name": "Python 3 (ipykernel)",
   "language": "python",
   "name": "python3"
  },
  "language_info": {
   "codemirror_mode": {
    "name": "ipython",
    "version": 3
   },
   "file_extension": ".py",
   "mimetype": "text/x-python",
   "name": "python",
   "nbconvert_exporter": "python",
   "pygments_lexer": "ipython3",
   "version": "3.9.5"
  }
 },
 "nbformat": 4,
 "nbformat_minor": 5
}
